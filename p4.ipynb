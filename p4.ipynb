{
 "cells": [
  {
   "cell_type": "code",
   "execution_count": 2,
   "metadata": {},
   "outputs": [],
   "source": [
    "L = []\n",
    "L = list()"
   ]
  },
  {
   "cell_type": "code",
   "execution_count": 8,
   "metadata": {},
   "outputs": [
    {
     "data": {
      "text/plain": [
       "10"
      ]
     },
     "execution_count": 8,
     "metadata": {},
     "output_type": "execute_result"
    }
   ],
   "source": [
    "dias = [3, 1, 10]\n",
    "dias[0]"
   ]
  },
  {
   "cell_type": "code",
   "execution_count": 9,
   "metadata": {},
   "outputs": [
    {
     "data": {
      "text/plain": [
       "1"
      ]
     },
     "execution_count": 9,
     "metadata": {},
     "output_type": "execute_result"
    }
   ],
   "source": [
    "dias = [3, 1, 10]\n",
    "dias[1]"
   ]
  },
  {
   "cell_type": "code",
   "execution_count": 10,
   "metadata": {},
   "outputs": [
    {
     "data": {
      "text/plain": [
       "10"
      ]
     },
     "execution_count": 10,
     "metadata": {},
     "output_type": "execute_result"
    }
   ],
   "source": [
    "dias = [3, 1, 10]\n",
    "dias[2]"
   ]
  },
  {
   "cell_type": "code",
   "execution_count": 11,
   "metadata": {},
   "outputs": [
    {
     "data": {
      "text/plain": [
       "[7, 8, 9]"
      ]
     },
     "execution_count": 11,
     "metadata": {},
     "output_type": "execute_result"
    }
   ],
   "source": [
    "Z = [3,8,9]\n",
    "Z[0] = 7\n",
    "Z"
   ]
  },
  {
   "cell_type": "code",
   "execution_count": 19,
   "metadata": {},
   "outputs": [
    {
     "name": "stdout",
     "output_type": "stream",
     "text": [
      "True\n",
      "True\n",
      "[5, 7, 5, 8, 9]\n",
      "[5, 7, 5, 8, 9]\n"
     ]
    }
   ],
   "source": [
    "V = [6,7,5,8,9]\n",
    "L = V\n",
    "print(V == L)\n",
    "print(V is L)\n",
    "V[0] = 5\n",
    "print(L)\n",
    "print(V)"
   ]
  },
  {
   "cell_type": "code",
   "execution_count": 9,
   "metadata": {},
   "outputs": [
    {
     "name": "stdout",
     "output_type": "stream",
     "text": [
      "True\n",
      "False\n",
      "[81, 82, 83]\n",
      "[5, 82, 83]\n"
     ]
    }
   ],
   "source": [
    "a = [81,82,83]\n",
    "b = a[:]\n",
    "print(a == b) #tem o mesmo endereço\n",
    "print(a is b) #porém apontam para distintos endereços de memória\n",
    "b[0] = 5\n",
    "print(a)\n",
    "print(b)"
   ]
  },
  {
   "cell_type": "code",
   "execution_count": 25,
   "metadata": {},
   "outputs": [
    {
     "name": "stdout",
     "output_type": "stream",
     "text": [
      "['b', 'c']\n",
      "['a', 'b', 'c', 'd']\n",
      "['d', 'e', 'f']\n",
      "['a', 'b', 'c', 'd', 'e', 'f']\n"
     ]
    }
   ],
   "source": [
    "uma_lista = ['a', 'b', 'c', 'd', 'e', 'f']\n",
    "print(uma_lista[1:3])\n",
    "print(uma_lista[:4])\n",
    "print(uma_lista[3:])\n",
    "print(uma_lista[:])"
   ]
  },
  {
   "cell_type": "code",
   "execution_count": 26,
   "metadata": {},
   "outputs": [
    {
     "ename": "IndexError",
     "evalue": "list index out of range",
     "output_type": "error",
     "traceback": [
      "\u001b[1;31m---------------------------------------------------------------------------\u001b[0m",
      "\u001b[1;31mIndexError\u001b[0m                                Traceback (most recent call last)",
      "Cell \u001b[1;32mIn[26], line 4\u001b[0m\n\u001b[0;32m      2\u001b[0m b \u001b[38;5;241m=\u001b[39m a[:]\n\u001b[0;32m      3\u001b[0m b[\u001b[38;5;241m0\u001b[39m] \u001b[38;5;241m=\u001b[39m \u001b[38;5;241m5\u001b[39m\n\u001b[1;32m----> 4\u001b[0m \u001b[38;5;28mprint\u001b[39m(\u001b[43ma\u001b[49m\u001b[43m[\u001b[49m\u001b[38;5;241;43m3\u001b[39;49m\u001b[43m]\u001b[49m)\n",
      "\u001b[1;31mIndexError\u001b[0m: list index out of range"
     ]
    }
   ],
   "source": [
    "a = [1,2,3]\n",
    "b = a[:]\n",
    "b[0] = 5\n",
    "print(a[3])"
   ]
  },
  {
   "cell_type": "code",
   "execution_count": 76,
   "metadata": {},
   "outputs": [
    {
     "name": "stdout",
     "output_type": "stream",
     "text": [
      "[76, 92.3, 'oi', True, 4, 76]\n",
      "[76, 92.3, 'oi', True, 4, 76, 'pitomba', 76]\n",
      "[76, 92.3, 'oi', 'cibele', True, 4, 76, 'pitomba', 76]\n",
      "[99, 76, 92.3, 'oi', 'cibele', True, 4, 76, 'pitomba', 76]\n",
      "oi\n",
      "[99, 76, 92.3, 'oi', 'cibele', 4, 76, 'pitomba', 76]\n"
     ]
    }
   ],
   "source": [
    "minhaLista = [76, 92.3, 'oi', True, 4, 76]\n",
    "print(minhaLista)\n",
    "#minhaLista = [minhaLista[0], minhaLista[1], minhaLista[2], minhaLista[3], minhaLista[4], minhaLista[5], 'pitomba', 76]\n",
    "#inserindo pitomba e 76 no final \n",
    "minhaLista = minhaLista + ['pitomba', 76]\n",
    "print(minhaLista)\n",
    "#inserindo cibele no indice 3\n",
    "minhaLista = minhaLista[:3] + ['cibele'] + minhaLista[3:]\n",
    "print(minhaLista)\n",
    "#inserindo 99 no inicio da lista\n",
    "minhaLista = [99] + minhaLista\n",
    "print(minhaLista)\n",
    "#imprimir oi\n",
    "if minhaLista[0] == 'oi':\n",
    "    print(minhaLista[0])\n",
    "elif minhaLista[1] == 'oi':\n",
    "    print(minhaLista[1])\n",
    "elif minhaLista[2] == 'oi':\n",
    "    print(minhaLista[2])\n",
    "elif minhaLista[3] == 'oi':\n",
    "    print(minhaLista[3])\n",
    "elif minhaLista[4] == 'oi':\n",
    "    print(minhaLista[4])\n",
    "elif minhaLista[5] == 'oi':\n",
    "    print(minhaLista[5])\n",
    "elif minhaLista[6] == 'oi':\n",
    "    print(minhaLista[6])\n",
    "elif minhaLista[7] == 'oi':\n",
    "    print(minhaLista[7])\n",
    "elif minhaLista[8] == 'oi':\n",
    "    print(minhaLista[8])\n",
    "elif minhaLista[9] == 'oi':\n",
    "    print(minhaLista[9])\n",
    "#removendo True da lista\n",
    "minhaLista = minhaLista[:5] + minhaLista[6:]\n",
    "print(minhaLista)\n"
   ]
  }
 ],
 "metadata": {
  "kernelspec": {
   "display_name": "Python 3",
   "language": "python",
   "name": "python3"
  },
  "language_info": {
   "codemirror_mode": {
    "name": "ipython",
    "version": 3
   },
   "file_extension": ".py",
   "mimetype": "text/x-python",
   "name": "python",
   "nbconvert_exporter": "python",
   "pygments_lexer": "ipython3",
   "version": "3.9.13"
  }
 },
 "nbformat": 4,
 "nbformat_minor": 2
}
